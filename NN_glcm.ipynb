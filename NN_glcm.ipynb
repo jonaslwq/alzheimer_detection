{
 "cells": [
  {
   "cell_type": "code",
   "execution_count": 1,
   "metadata": {},
   "outputs": [],
   "source": [
    "import pandas as pd\n",
    "import numpy as np\n",
    "import xgboost as xgb\n",
    "from sklearn.metrics import classification_report, confusion_matrix\n",
    "from sklearn.preprocessing import LabelEncoder\n",
    "import matplotlib.pyplot as plt\n",
    "import seaborn as sns\n",
    "from sklearn.metrics import matthews_corrcoef"
   ]
  },
  {
   "cell_type": "code",
   "execution_count": 2,
   "metadata": {},
   "outputs": [],
   "source": [
    "# Save the train and test DataFrames\n",
    "X_TRAIN_DIR = \"processed_data/glcm/X_train.pkl\"\n",
    "y_TRAIN_DIR = \"processed_data/glcm/y_train.pkl\"\n",
    "X_TEST_DIR = \"processed_data/glcm/X_test.pkl\"\n",
    "y_TEST_DIR = \"processed_data/glcm/y_test.pkl\"\n",
    "\n",
    "X_train = pd.read_pickle(X_TRAIN_DIR)\n",
    "y_train = pd.read_pickle(y_TRAIN_DIR)\n",
    "X_test = pd.read_pickle(X_TEST_DIR)\n",
    "y_test = pd.read_pickle(y_TEST_DIR)"
   ]
  },
  {
   "cell_type": "code",
   "execution_count": 3,
   "metadata": {},
   "outputs": [
    {
     "name": "stdout",
     "output_type": "stream",
     "text": [
      "(4129, 67)\n",
      "(4129,)\n",
      "(1030, 67)\n",
      "(1030,)\n"
     ]
    }
   ],
   "source": [
    "print(X_train.shape)\n",
    "print(y_train.shape)\n",
    "print(X_test.shape)\n",
    "print(y_test.shape)"
   ]
  },
  {
   "cell_type": "code",
   "execution_count": 86,
   "metadata": {},
   "outputs": [],
   "source": [
    "X_train_exp = X_train.iloc[:, :61]\n",
    "X_test_exp = X_test.iloc[:, :61]"
   ]
  },
  {
   "cell_type": "code",
   "execution_count": 95,
   "metadata": {},
   "outputs": [
    {
     "name": "stdout",
     "output_type": "stream",
     "text": [
      "33/33 [==============================] - 0s 1ms/step - loss: 1.3352 - fbeta_score: 0.4124\n",
      "33/33 [==============================] - 0s 845us/step\n"
     ]
    },
    {
     "data": {
      "image/png": "[encoded data removed]",
      "text/plain": [
       "<Figure size 800x600 with 2 Axes>"
      ]
     },
     "metadata": {},
     "output_type": "display_data"
    },
    {
     "name": "stdout",
     "output_type": "stream",
     "text": [
      "Classification Report:\n",
      "              precision    recall  f1-score   support\n",
      "\n",
      "           0       0.50      1.00      0.66       511\n",
      "           1       0.00      0.00      0.00       358\n",
      "           2       0.00      0.00      0.00       151\n",
      "           3       0.00      0.00      0.00        10\n",
      "\n",
      "    accuracy                           0.50      1030\n",
      "   macro avg       0.12      0.25      0.17      1030\n",
      "weighted avg       0.25      0.50      0.33      1030\n",
      "\n",
      "Matthews Correlation Coefficient: 0.0\n",
      "Weighted Average F2 Score: 0.4123545289039612\n"
     ]
    },
    {
     "name": "stderr",
     "output_type": "stream",
     "text": [
      "c:\\Users\\jonas\\anaconda3\\Lib\\site-packages\\sklearn\\metrics\\_classification.py:1469: UndefinedMetricWarning: Precision and F-score are ill-defined and being set to 0.0 in labels with no predicted samples. Use `zero_division` parameter to control this behavior.\n",
      "  _warn_prf(average, modifier, msg_start, len(result))\n",
      "c:\\Users\\jonas\\anaconda3\\Lib\\site-packages\\sklearn\\metrics\\_classification.py:1469: UndefinedMetricWarning: Precision and F-score are ill-defined and being set to 0.0 in labels with no predicted samples. Use `zero_division` parameter to control this behavior.\n",
      "  _warn_prf(average, modifier, msg_start, len(result))\n",
      "c:\\Users\\jonas\\anaconda3\\Lib\\site-packages\\sklearn\\metrics\\_classification.py:1469: UndefinedMetricWarning: Precision and F-score are ill-defined and being set to 0.0 in labels with no predicted samples. Use `zero_division` parameter to control this behavior.\n",
      "  _warn_prf(average, modifier, msg_start, len(result))\n"
     ]
    }
   ],
   "source": [
    "import tensorflow as tf\n",
    "from tensorflow import keras\n",
    "from sklearn.preprocessing import LabelEncoder\n",
    "from sklearn.metrics import classification_report, confusion_matrix\n",
    "import matplotlib.pyplot as plt\n",
    "import seaborn as sns\n",
    "import numpy as np\n",
    "import tensorflow_addons as tfa\n",
    "from tensorflow.keras.utils import to_categorical\n",
    "from tensorflow_addons.losses import SigmoidFocalCrossEntropy\n",
    "from sklearn.utils.class_weight import compute_class_weight\n",
    "\n",
    "from tensorflow.keras import backend as K\n",
    "\n",
    "def weighted_categorical_crossentropy(weights):\n",
    "    \"\"\"\n",
    "    Weighted categorical cross-entropy loss function.\n",
    "\n",
    "    Parameters:\n",
    "    weights (np.array): Array of weights for each class.\n",
    "\n",
    "    Returns:\n",
    "    loss function\n",
    "    \"\"\"\n",
    "    weights = K.variable(weights)\n",
    "\n",
    "    def loss(y_true, y_pred):\n",
    "        y_pred /= K.sum(y_pred, axis=-1, keepdims=True)\n",
    "        y_pred = K.clip(y_pred, K.epsilon(), 1 - K.epsilon())\n",
    "        loss = y_true * K.log(y_pred) * weights\n",
    "        loss = -K.sum(loss, -1)\n",
    "        return loss\n",
    "\n",
    "    return loss\n",
    "\n",
    "def tensorflow_neural_network_classification(X_train, y_train, X_test, y_test):\n",
    "    \"\"\"\n",
    "    Perform neural network multiclass classification using TensorFlow, evaluate the model, and create a confusion matrix.\n",
    "\n",
    "    Parameters:\n",
    "    X_train (pd.DataFrame): Training features.\n",
    "    y_train (pd.Series): Training labels.\n",
    "    X_test (pd.DataFrame): Testing features.\n",
    "    y_test (pd.Series): Testing labels.\n",
    "\n",
    "    Returns:\n",
    "    None\n",
    "    \"\"\"\n",
    "    # One-hot encode the class labels\n",
    "    y_train_encoded = to_categorical(y_train)\n",
    "    y_test_encoded = to_categorical(y_test)\n",
    "\n",
    "    # Create a label encoder\n",
    "    label_encoder = LabelEncoder()\n",
    "\n",
    "    # Encode the class labels\n",
    "    encoder = label_encoder.fit_transform(y_train)\n",
    "\n",
    "    # Get the class labels\n",
    "    class_labels = label_encoder.classes_\n",
    "\n",
    "    # Define a Sequential model\n",
    "    model = keras.Sequential([\n",
    "        keras.layers.Dense(128, activation='relu', input_shape=(X_train.shape[1],)),\n",
    "        keras.layers.Dropout(0.2),  \n",
    "        keras.layers.Dense(128, activation='relu', input_shape=(X_train.shape[1],)),\n",
    "        keras.layers.Dropout(0.2),  \n",
    "        keras.layers.Dense(32, activation='relu'),\n",
    "        keras.layers.Dense(4, activation='softmax')  # Use softmax in the output layer\n",
    "    ])\n",
    "\n",
    "    # Create an instance of the FBetaScore class\n",
    "    fbeta_score = tfa.metrics.FBetaScore(num_classes=4, beta=2.0, average='weighted')\n",
    "\n",
    "    class_weights_dict = {0: 1, 1: 1.3, 2: 3, 3:40}\n",
    "\n",
    "    model.compile(optimizer='adam',\n",
    "              loss='categorical_crossentropy',\n",
    "              metrics=[fbeta_score])\n",
    "\n",
    "    # Train the model\n",
    "    model.fit(X_train, y_train_encoded, epochs=100, batch_size=32, verbose=0, class_weight=class_weights_dict)\n",
    "\n",
    "    # Evaluate the model\n",
    "    metrics = model.evaluate(X_test, y_test_encoded)\n",
    "\n",
    "    # Predict labels\n",
    "    y_pred_prob = model.predict(X_test)\n",
    "    y_pred = [class_labels[idx] for idx in np.argmax(y_pred_prob, axis=1)]\n",
    "\n",
    "    # Create a confusion matrix\n",
    "    cm = confusion_matrix(y_test, y_pred)\n",
    "\n",
    "    # Plot confusion matrix as a heatmap\n",
    "    plt.figure(figsize=(8, 6))\n",
    "    sns.heatmap(cm, annot=True, fmt=\"d\", cmap=\"Blues\", xticklabels=class_labels, yticklabels=class_labels)\n",
    "    plt.xlabel(\"Predicted\")\n",
    "    plt.ylabel(\"True\")\n",
    "    plt.title(\"Confusion Matrix\")\n",
    "    plt.show()\n",
    "\n",
    "    # Print classification report\n",
    "    print(\"Classification Report:\")\n",
    "    print(classification_report(y_test, y_pred))\n",
    "\n",
    "    # Calculate MCC using true labels and predicted labels\n",
    "    mcc = matthews_corrcoef(y_test, y_pred)\n",
    "    print(\"Matthews Correlation Coefficient:\", mcc)\n",
    "\n",
    "    # Calculate and print the weighted average F2 score\n",
    "    weighted_f2_score = metrics[1]\n",
    "    print(\"Weighted Average F2 Score:\", weighted_f2_score)\n",
    "\n",
    "tensorflow_neural_network_classification(X_train, y_train, X_test, y_test)\n"
   ]
  }
 ],
 "metadata": {
  "kernelspec": {
   "display_name": "base",
   "language": "python",
   "name": "python3"
  },
  "language_info": {
   "codemirror_mode": {
    "name": "ipython",
    "version": 3
   },
   "file_extension": ".py",
   "mimetype": "text/x-python",
   "name": "python",
   "nbconvert_exporter": "python",
   "pygments_lexer": "ipython3",
   "version": "3.11.3"
  }
 },
 "nbformat": 4,
 "nbformat_minor": 2
}
