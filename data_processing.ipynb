{
 "cells": [
  {
   "cell_type": "code",
   "execution_count": null,
   "metadata": {},
   "outputs": [],
   "source": [
    "import os\n",
    "import cv2\n",
    "import pandas as pd\n",
    "\n",
    "import numpy as np\n",
    "from skimage.feature import graycomatrix, graycoprops"
   ]
  },
  {
   "cell_type": "code",
   "execution_count": 1,
   "metadata": {},
   "outputs": [],
   "source": [
    "# Define the directories\n",
    "# Store your directories in a \"data\" folder in your working directory\n",
    "CURRENT_DIR = os.getcwd()\n",
    "TRAIN_DIR = CURRENT_DIR + \"//data//train\"\n",
    "TEST_DIR = CURRENT_DIR + \"//data//test\"\n",
    "\n",
    "# Create empty DataFrames for the train and test data\n",
    "train_df = pd.DataFrame()\n",
    "test_df = pd.DataFrame()\n",
    "\n",
    "# Define a function to read and resize an image\n",
    "def read_and_resize_image(image_path):\n",
    "    image = cv2.imread(image_path)\n",
    "    resized_image = cv2.resize(image, (128, 128))\n",
    "    # Convert the resized image to grayscale (2D array)\n",
    "    gray_image = cv2.cvtColor(resized_image, cv2.COLOR_BGR2GRAY)\n",
    "    return gray_image  # Now, the image is a 2D NumPy array (grayscale)\n",
    "\n",
    "def process_image(DIR):\n",
    "\n",
    "    #Initiate Dataframe\n",
    "    df = pd.DataFrame()\n",
    "\n",
    "    # Create an empty list to store the new rows\n",
    "    new_rows = []\n",
    "\n",
    "    # Iterate over the training directory and read in the images\n",
    "    for subdir in os.listdir(DIR):\n",
    "        subdir_path = os.path.join(DIR, subdir)\n",
    "        for image in os.listdir(subdir_path):\n",
    "            image_path = os.path.join(subdir_path, image)\n",
    "\n",
    "            # Read and resize the image\n",
    "            resized_image = read_and_resize_image(image_path)\n",
    "\n",
    "            # Create a new row for the train DataFrame\n",
    "            new_row = {\n",
    "                \"image\": resized_image,\n",
    "                \"label\": {\n",
    "                    \"NonDemented\": 0,\n",
    "                    \"VeryMildDemented\": 1,\n",
    "                    \"MildDemented\": 2,\n",
    "                    \"ModerateDemented\": 3\n",
    "                }[subdir]\n",
    "            }\n",
    "\n",
    "            # Add the new row to the list\n",
    "            new_rows.append(new_row)\n",
    "\n",
    "    # Concatenate the new rows to the train DataFrame\n",
    "    df = pd.concat([train_df, pd.DataFrame(new_rows)])\n",
    "\n",
    "    return df\n",
    "\n",
    "# Process train and test DataFrames\n",
    "train_df = process_image(TRAIN_DIR)\n",
    "test_df = process_image(TEST_DIR)"
   ]
  },
  {
   "cell_type": "code",
   "execution_count": 15,
   "metadata": {},
   "outputs": [],
   "source": [
    "# Get the image data from the DataFrames\n",
    "train_images = train_df['image'].values\n",
    "test_images = test_df['image'].values\n",
    "\n",
    "# Define the function to compute GLCM features for multiple distances and angles\n",
    "def compute_glcm_features(images, distances, angles, properties):\n",
    "    glcm_features = []\n",
    "    for image in images:\n",
    "        image_glcm_features = []\n",
    "        for distance in distances:\n",
    "            for angle in angles:\n",
    "                # Calculate GLCM for each image, distance, and angle\n",
    "                glcm = graycomatrix(image, [distance], [angle], levels=256, symmetric=True, normed=True)\n",
    "                # Compute the specified GLCM properties\n",
    "                texture_features = [graycoprops(glcm, prop)[0, 0] for prop in properties]\n",
    "                image_glcm_features.extend(texture_features)\n",
    "        # Append the computed features for all distances and angles to the result list\n",
    "        glcm_features.append(image_glcm_features)\n",
    "    return glcm_features\n",
    "\n",
    "# Define the GLCM properties you want to compute\n",
    "properties = ['contrast', 'dissimilarity', 'homogeneity', 'energy', 'correlation', 'ASM']\n",
    "\n",
    "# Define the distances and angles\n",
    "distances = [1, 2, 3]\n",
    "angles = [0, np.pi/4, np.pi/2]\n",
    "\n",
    "# Compute GLCM features for train and test images\n",
    "train_glcm_features = compute_glcm_features(train_images, distances, angles, properties)\n",
    "test_glcm_features = compute_glcm_features(test_images, distances, angles, properties)\n",
    "\n",
    "# Create DataFrames for train and test features\n",
    "X_train = pd.DataFrame(train_glcm_features, columns=[f\"{prop}_d{distance}_a{angle}\" for prop in properties for distance in distances for angle in angles])\n",
    "X_test = pd.DataFrame(test_glcm_features, columns=[f\"{prop}_d{distance}_a{angle}\" for prop in properties for distance in distances for angle in angles])\n"
   ]
  },
  {
   "cell_type": "code",
   "execution_count": 16,
   "metadata": {},
   "outputs": [],
   "source": [
    "# Extract labels from train and test DataFrames\n",
    "y_train = train_df[\"label\"]\n",
    "y_test = test_df[\"label\"]"
   ]
  },
  {
   "cell_type": "code",
   "execution_count": 17,
   "metadata": {},
   "outputs": [
    {
     "name": "stdout",
     "output_type": "stream",
     "text": [
      "(5120, 54)\n",
      "(5120,)\n",
      "(5160, 54)\n",
      "(5160,)\n"
     ]
    }
   ],
   "source": [
    "print(X_train.shape)\n",
    "print(y_train.shape)\n",
    "print(X_test.shape)\n",
    "print(y_test.shape)"
   ]
  },
  {
   "cell_type": "code",
   "execution_count": 25,
   "metadata": {},
   "outputs": [],
   "source": [
    "directory_path = \"processed_data/glcm/\"\n",
    "\n",
    "# Create the directory if it doesn't exist\n",
    "if not os.path.exists(directory_path):\n",
    "    os.makedirs(directory_path)\n",
    "\n",
    "# Save the train and test DataFrames\n",
    "X_train.to_pickle(\"processed_data/glcm/X_train.pkl\")\n",
    "y_train.to_pickle(\"processed_data/glcm/y_train.pkl\")\n",
    "X_test.to_pickle(\"processed_data/glcm/X_test.pkl\")\n",
    "y_test.to_pickle(\"processed_data/glcm/y_test.pkl\")"
   ]
  }
 ],
 "metadata": {
  "kernelspec": {
   "display_name": "base",
   "language": "python",
   "name": "python3"
  },
  "language_info": {
   "codemirror_mode": {
    "name": "ipython",
    "version": 3
   },
   "file_extension": ".py",
   "mimetype": "text/x-python",
   "name": "python",
   "nbconvert_exporter": "python",
   "pygments_lexer": "ipython3",
   "version": "3.11.3"
  }
 },
 "nbformat": 4,
 "nbformat_minor": 2
}
