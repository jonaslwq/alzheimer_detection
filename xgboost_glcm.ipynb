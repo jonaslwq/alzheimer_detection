{
 "cells": [
  {
   "cell_type": "code",
   "execution_count": 17,
   "metadata": {},
   "outputs": [],
   "source": [
    "import pandas as pd\n",
    "import numpy as np\n",
    "import xgboost as xgb\n",
    "from sklearn.metrics import classification_report, confusion_matrix\n",
    "from sklearn.preprocessing import LabelEncoder\n",
    "import matplotlib.pyplot as plt\n",
    "import seaborn as sns"
   ]
  },
  {
   "cell_type": "code",
   "execution_count": 2,
   "metadata": {},
   "outputs": [],
   "source": [
    "# Save the train and test DataFrames\n",
    "X_TRAIN_DIR = \"processed_data/glcm/X_train.pkl\"\n",
    "y_TRAIN_DIR = \"processed_data/glcm/y_train.pkl\"\n",
    "X_TEST_DIR = \"processed_data/glcm/X_test.pkl\"\n",
    "y_TEST_DIR = \"processed_data/glcm/y_test.pkl\"\n",
    "\n",
    "X_train = pd.read_pickle(X_TRAIN_DIR)\n",
    "y_train = pd.read_pickle(y_TRAIN_DIR)\n",
    "X_test = pd.read_pickle(X_TEST_DIR)\n",
    "y_test = pd.read_pickle(y_TEST_DIR)"
   ]
  },
  {
   "cell_type": "code",
   "execution_count": 50,
   "metadata": {},
   "outputs": [],
   "source": [
    "def xgboost_classification(X_train, y_train, X_test, y_test):\n",
    "    \"\"\"\n",
    "    Perform XGBoost multiclass classification, evaluate the model, and create a confusion matrix.\n",
    "\n",
    "    Parameters:\n",
    "    X_train (torch.Tensor): Training features.\n",
    "    y_train (torch.Tensor): Training labels.\n",
    "    X_test (torch.Tensor): Testing features.\n",
    "    y_test (torch.Tensor): Testing labels.\n",
    "\n",
    "    Returns:\n",
    "    None\n",
    "    \"\"\"\n",
    "    \n",
    "    # Create a label encoder\n",
    "    label_encoder = LabelEncoder()\n",
    "    \n",
    "    # Encode the class labels\n",
    "    y_train_encoded = label_encoder.fit_transform(y_train)\n",
    "    y_test_encoded = label_encoder.transform(y_test)\n",
    "    \n",
    "    # Inverse transform for class labels in the confusion matrix\n",
    "    class_labels = label_encoder.classes_\n",
    "    \n",
    "    # Create a DMatrix for XGBoost\n",
    "    dtrain = xgb.DMatrix(X_train, label=y_train_encoded)\n",
    "    dtest = xgb.DMatrix(X_test)\n",
    "\n",
    "    # Define parameters for the XGBoost model\n",
    "    params = {\n",
    "        'objective': 'multi:softprob',  # Multiclass classification\n",
    "        'num_class': len(class_labels),  # Number of classes\n",
    "        'max_depth': 6,  # Maximum depth of trees\n",
    "        'eta': 0.3,  # Learning rate\n",
    "        'subsample': 1,  # Fraction of samples used for training\n",
    "        'colsample_bytree': 0.7,  # Fraction of features used for training\n",
    "    }\n",
    "\n",
    "    num_round = 100  # Number of boosting rounds\n",
    "\n",
    "    # Train the XGBoost model\n",
    "    model = xgb.train(params, dtrain, num_round)\n",
    "\n",
    "    # Predict labels\n",
    "    y_pred_prob = model.predict(dtest)\n",
    "    y_pred = [class_labels[idx] for idx in np.argmax(y_pred_prob, axis=1)]  # Convert probabilities to class labels\n",
    "\n",
    "    # Create a confusion matrix\n",
    "    cm = confusion_matrix(y_test, y_pred)\n",
    "\n",
    "    # Plot confusion matrix as a heatmap\n",
    "    plt.figure(figsize=(8, 6))\n",
    "    sns.heatmap(cm, annot=True, fmt=\"d\", cmap=\"Blues\", xticklabels=class_labels, yticklabels=class_labels)\n",
    "    plt.xlabel(\"Predicted\")\n",
    "    plt.ylabel(\"True\")\n",
    "    plt.title(\"Confusion Matrix\")\n",
    "    plt.show()\n",
    "\n",
    "    # Print classification report\n",
    "    print(\"Classification Report:\")\n",
    "    print(classification_report(y_test, y_pred))\n",
    "    "
   ]
  },
  {
   "cell_type": "code",
   "execution_count": 51,
   "metadata": {},
   "outputs": [
    {
     "name": "stderr",
     "output_type": "stream",
     "text": [
      "c:\\Users\\jonas\\anaconda3\\Lib\\site-packages\\xgboost\\data.py:335: FutureWarning: is_sparse is deprecated and will be removed in a future version. Check `isinstance(dtype, pd.SparseDtype)` instead.\n",
      "  if is_sparse(dtype):\n",
      "c:\\Users\\jonas\\anaconda3\\Lib\\site-packages\\xgboost\\data.py:338: FutureWarning: is_categorical_dtype is deprecated and will be removed in a future version. Use isinstance(dtype, CategoricalDtype) instead\n",
      "  is_categorical_dtype(dtype) or is_pa_ext_categorical_dtype(dtype)\n",
      "c:\\Users\\jonas\\anaconda3\\Lib\\site-packages\\xgboost\\data.py:384: FutureWarning: is_categorical_dtype is deprecated and will be removed in a future version. Use isinstance(dtype, CategoricalDtype) instead\n",
      "  if is_categorical_dtype(dtype):\n",
      "c:\\Users\\jonas\\anaconda3\\Lib\\site-packages\\xgboost\\data.py:359: FutureWarning: is_categorical_dtype is deprecated and will be removed in a future version. Use isinstance(dtype, CategoricalDtype) instead\n",
      "  return is_int or is_bool or is_float or is_categorical_dtype(dtype)\n",
      "c:\\Users\\jonas\\anaconda3\\Lib\\site-packages\\xgboost\\data.py:335: FutureWarning: is_sparse is deprecated and will be removed in a future version. Check `isinstance(dtype, pd.SparseDtype)` instead.\n",
      "  if is_sparse(dtype):\n",
      "c:\\Users\\jonas\\anaconda3\\Lib\\site-packages\\xgboost\\data.py:338: FutureWarning: is_categorical_dtype is deprecated and will be removed in a future version. Use isinstance(dtype, CategoricalDtype) instead\n",
      "  is_categorical_dtype(dtype) or is_pa_ext_categorical_dtype(dtype)\n",
      "c:\\Users\\jonas\\anaconda3\\Lib\\site-packages\\xgboost\\data.py:384: FutureWarning: is_categorical_dtype is deprecated and will be removed in a future version. Use isinstance(dtype, CategoricalDtype) instead\n",
      "  if is_categorical_dtype(dtype):\n",
      "c:\\Users\\jonas\\anaconda3\\Lib\\site-packages\\xgboost\\data.py:359: FutureWarning: is_categorical_dtype is deprecated and will be removed in a future version. Use isinstance(dtype, CategoricalDtype) instead\n",
      "  return is_int or is_bool or is_float or is_categorical_dtype(dtype)\n"
     ]
    },
    {
     "data": {
      "image/png": "[encoded data removed]",
      "text/plain": [
       "<Figure size 800x600 with 2 Axes>"
      ]
     },
     "metadata": {},
     "output_type": "display_data"
    },
    {
     "name": "stdout",
     "output_type": "stream",
     "text": [
      "Classification Report:\n",
      "              precision    recall  f1-score   support\n",
      "\n",
      "           0       1.00      1.00      1.00      2560\n",
      "           1       0.99      1.00      0.99      1791\n",
      "           2       0.99      0.99      0.99       757\n",
      "           3       1.00      0.87      0.93        52\n",
      "\n",
      "    accuracy                           0.99      5160\n",
      "   macro avg       1.00      0.96      0.98      5160\n",
      "weighted avg       0.99      0.99      0.99      5160\n",
      "\n"
     ]
    }
   ],
   "source": [
    "# Call the xgboost_classification function with your data\n",
    "xgboost_classification(X_train, y_train, X_test, y_test)"
   ]
  }
 ],
 "metadata": {
  "kernelspec": {
   "display_name": "base",
   "language": "python",
   "name": "python3"
  },
  "language_info": {
   "codemirror_mode": {
    "name": "ipython",
    "version": 3
   },
   "file_extension": ".py",
   "mimetype": "text/x-python",
   "name": "python",
   "nbconvert_exporter": "python",
   "pygments_lexer": "ipython3",
   "version": "3.11.3"
  }
 },
 "nbformat": 4,
 "nbformat_minor": 2
}
